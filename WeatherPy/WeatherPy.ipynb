{
 "cells": [
  {
   "cell_type": "markdown",
   "metadata": {},
   "source": [
    "# WeatherPy\n",
    "----\n",
    "\n",
    "#### Note\n",
    "* Instructions have been included for each segment. You do not have to follow them exactly, but they are included to help you think through the steps."
   ]
  },
  {
   "cell_type": "code",
   "execution_count": 79,
   "metadata": {
    "scrolled": true
   },
   "outputs": [],
   "source": [
    "# Dependencies\n",
    "import requests\n",
    "import json\n",
    "import pandas as pd\n",
    "import matplotlib.pyplot as plt\n",
    "import numpy as np\n",
    "import time\n",
    "from scipy.stats import linregress\n"
   ]
  },
  {
   "cell_type": "code",
   "execution_count": 80,
   "metadata": {},
   "outputs": [],
   "source": [
    "# Import API key\n",
    "from api_keys import weather_api_key"
   ]
  },
  {
   "cell_type": "code",
   "execution_count": 81,
   "metadata": {},
   "outputs": [
    {
     "name": "stdout",
     "output_type": "stream",
     "text": [
      "Requirement already satisfied: citipy in /Users/paola/opt/anaconda3/lib/python3.8/site-packages (0.0.5)\n",
      "Requirement already satisfied: kdtree>=0.12 in /Users/paola/opt/anaconda3/lib/python3.8/site-packages (from citipy) (0.16)\n",
      "Note: you may need to restart the kernel to use updated packages.\n"
     ]
    }
   ],
   "source": [
    "pip install citipy"
   ]
  },
  {
   "cell_type": "code",
   "execution_count": 82,
   "metadata": {},
   "outputs": [],
   "source": [
    "# Import simple Python library citipy to determine city based on latitude and longitude\n",
    "from citipy import citipy\n",
    "\n",
    "# Output File (CSV)\n",
    "output_df = \"output_data/cities.csv\""
   ]
  },
  {
   "cell_type": "code",
   "execution_count": 83,
   "metadata": {},
   "outputs": [],
   "source": [
    "# Range of latitudes and longitudes\n",
    "lat_range = (-90, 90)\n",
    "long_range = (-180, 180)"
   ]
  },
  {
   "cell_type": "markdown",
   "metadata": {},
   "source": [
    "## Generate Cities List"
   ]
  },
  {
   "cell_type": "code",
   "execution_count": 88,
   "metadata": {},
   "outputs": [
    {
     "data": {
      "text/plain": [
       "622"
      ]
     },
     "execution_count": 88,
     "metadata": {},
     "output_type": "execute_result"
    }
   ],
   "source": [
    "# List for holding lat_lngs and cities\n",
    "lat_lngs = []\n",
    "cities = []\n",
    "\n",
    "# Create a set of random lat and lng combinations\n",
    "lats = np.random.uniform(lat_range[0], lat_range[1], size=1500)\n",
    "lngs = np.random.uniform(lng_range[0], lng_range[1], size=1500)\n",
    "lat_lngs = zip(lats, lngs)\n",
    "\n",
    "# Identify nearest city for each lat, lng combination\n",
    "for lat_lng in lat_lngs:\n",
    "    city = citipy.nearest_city(lat_lng[0], lat_lng[1]).city_name\n",
    "    \n",
    "    # If the city is unique, then add it to a our cities list\n",
    "    if city not in cities:\n",
    "        cities.append(city)\n",
    "\n",
    "# Print the city count to confirm sufficient count\n",
    "len(cities)"
   ]
  },
  {
   "cell_type": "markdown",
   "metadata": {},
   "source": [
    "### Perform API Calls\n",
    "* Perform a weather check on each city using a series of successive API calls.\n",
    "* Include a print log of each city as it'sbeing processed (with the city number and city name).\n"
   ]
  },
  {
   "cell_type": "code",
   "execution_count": 103,
   "metadata": {},
   "outputs": [
    {
     "name": "stdout",
     "output_type": "stream",
     "text": [
      "{\n",
      "    \"coord\": {\n",
      "        \"lon\": -59.65,\n",
      "        \"lat\": -29.15\n",
      "    },\n",
      "    \"weather\": [\n",
      "        {\n",
      "            \"id\": 804,\n",
      "            \"main\": \"Clouds\",\n",
      "            \"description\": \"overcast clouds\",\n",
      "            \"icon\": \"04n\"\n",
      "        }\n",
      "    ],\n",
      "    \"base\": \"stations\",\n",
      "    \"main\": {\n",
      "        \"temp\": 71.53,\n",
      "        \"feels_like\": 67.21,\n",
      "        \"temp_min\": 71.53,\n",
      "        \"temp_max\": 71.53,\n",
      "        \"pressure\": 1007,\n",
      "        \"humidity\": 60,\n",
      "        \"sea_level\": 1007,\n",
      "        \"grnd_level\": 1001\n",
      "    },\n",
      "    \"visibility\": 10000,\n",
      "    \"wind\": {\n",
      "        \"speed\": 11.52,\n",
      "        \"deg\": 176\n",
      "    },\n",
      "    \"clouds\": {\n",
      "        \"all\": 100\n",
      "    },\n",
      "    \"dt\": 1597095382,\n",
      "    \"sys\": {\n",
      "        \"country\": \"AR\",\n",
      "        \"sunrise\": 1597055716,\n",
      "        \"sunset\": 1597095158\n",
      "    },\n",
      "    \"timezone\": -10800,\n",
      "    \"id\": 3429594,\n",
      "    \"name\": \"Reconquista\",\n",
      "    \"cod\": 200\n",
      "}\n"
     ]
    }
   ],
   "source": [
    "# Get Weather Data\n",
    "url = \"http://api.openweathermap.org/data/2.5/weather?\"\n",
    "units = \"imperial\"\n",
    "query_url = f\"{url}appid={api_keys}&units={units}&q=\"\n",
    "\n",
    "weather_response = requests.get(query_url + city)\n",
    "weather_json = weather_response.json()\n",
    "print(json.dumps(weather_json, indent=4))"
   ]
  },
  {
   "cell_type": "code",
   "execution_count": 105,
   "metadata": {},
   "outputs": [
    {
     "name": "stdout",
     "output_type": "stream",
     "text": [
      "<Response [200]>\n"
     ]
    }
   ],
   "source": [
    "print(requests.get(query_url + city))"
   ]
  },
  {
   "cell_type": "code",
   "execution_count": 106,
   "metadata": {},
   "outputs": [
    {
     "name": "stdout",
     "output_type": "stream",
     "text": [
      "Beginning Data Retrieval\n",
      "-------------------------------\n",
      "Processing Record 1 | Uberlândia\n",
      "Processing Record 2 | Norman Wells\n",
      "Processing Record 3 | Margate\n",
      "Processing Record 4 | Rikitea\n",
      "Processing Record 5 | Punta Arenas\n",
      "Processing Record 6 | Yellowknife\n",
      "Processing Record 7 | Shitanjing\n",
      "Processing Record 8 | Shingū\n",
      "Processing Record 9 | Hilo\n",
      "Processing Record 10 | Khovd\n",
      "Processing Record 11 | New Norfolk\n",
      "Processing Record 12 | Streator\n",
      "Processing Record 13 | Nikolskoye\n",
      "Processing Record 14 | Ushuaia\n",
      "Processing Record 15 | Linguère\n",
      "Processing Record 16 | Buxtehude\n",
      "Processing Record 17 | Kirakira\n",
      "City not found. Skipping...\n",
      "Processing Record 18 | Mataura\n",
      "Processing Record 19 | Saint Anthony\n",
      "Processing Record 20 | Upernavik\n",
      "Processing Record 21 | Walvis Bay\n",
      "Processing Record 22 | Bintulu\n",
      "City not found. Skipping...\n",
      "Processing Record 23 | Carnarvon\n",
      "City not found. Skipping...\n",
      "Processing Record 24 | Nanortalik\n",
      "Processing Record 25 | Richards Bay\n",
      "Processing Record 26 | Cayenne\n",
      "Processing Record 27 | Puerto Ayora\n",
      "Processing Record 28 | Bluff\n",
      "Processing Record 29 | San Policarpo\n",
      "Processing Record 30 | Maceió\n",
      "Processing Record 31 | Persianovskiy\n",
      "Processing Record 32 | Terrace\n",
      "City not found. Skipping...\n",
      "Processing Record 33 | Hyères\n",
      "Processing Record 34 | Barrow\n",
      "Processing Record 35 | Port Lincoln\n",
      "Processing Record 36 | Kapaa\n",
      "Processing Record 37 | Bafoulabé\n",
      "Processing Record 38 | Izyum\n",
      "Processing Record 39 | Port Alfred\n",
      "Processing Record 40 | Departamento de Maldonado\n",
      "Processing Record 41 | Berlevåg\n",
      "Processing Record 42 | Cherskiy\n",
      "Processing Record 43 | Feijó\n",
      "Processing Record 44 | São Félix do Xingu\n",
      "Processing Record 45 | Ahipara\n",
      "Processing Record 46 | Saint Simons\n",
      "Processing Record 47 | Provideniya\n",
      "City not found. Skipping...\n",
      "Processing Record 48 | São João da Barra\n",
      "Processing Record 49 | Portland\n",
      "Processing Record 50 | Avarua\n",
      "Processing Record 51 | Busselton\n",
      "Processing Record 52 | Jamestown\n",
      "Processing Record 53 | Mar del Plata\n",
      "Processing Record 54 | Clyde River\n",
      "Processing Record 55 | Atuona\n",
      "Processing Record 56 | Marawi\n",
      "Processing Record 57 | Dingle\n",
      "Processing Record 58 | Yazoo City\n",
      "Processing Record 59 | Albany\n",
      "Processing Record 60 | Butaritari\n",
      "Processing Record 61 | Castro\n",
      "Processing Record 62 | Balkanabat\n",
      "Processing Record 63 | Tasiilaq\n",
      "Processing Record 64 | Iqaluit\n",
      "Processing Record 65 | Mitsamiouli\n",
      "Processing Record 66 | Muroto-misakicho\n",
      "Processing Record 67 | Severo-Kuril'sk\n",
      "Processing Record 68 | Kavaratti\n",
      "Processing Record 69 | Qaanaaq\n",
      "Processing Record 70 | Santa Maria\n",
      "Processing Record 71 | Uyuni\n",
      "City not found. Skipping...\n",
      "Processing Record 72 | Xinan\n",
      "Processing Record 73 | Presidencia Roque Sáenz Peña\n",
      "Processing Record 74 | Burnie\n",
      "Processing Record 75 | Arraial do Cabo\n",
      "Processing Record 76 | Chokurdakh\n",
      "Processing Record 77 | Yilan\n",
      "Processing Record 78 | Hofn\n",
      "Processing Record 79 | Hobart\n",
      "Processing Record 80 | Berdigestyakh\n",
      "Processing Record 81 | Salta\n",
      "Processing Record 82 | Ostrovnoy\n",
      "Processing Record 83 | Dicabisagan\n",
      "Processing Record 84 | Ampanihy\n",
      "Processing Record 85 | Hithadhoo\n",
      "Processing Record 86 | Vaini\n",
      "City not found. Skipping...\n",
      "Processing Record 87 | Kenora\n",
      "Processing Record 88 | Puqi\n",
      "Processing Record 89 | Wilmington\n",
      "Processing Record 90 | Coquimbo\n",
      "Processing Record 91 | Torbay\n",
      "Processing Record 92 | Darhan\n",
      "Processing Record 93 | Bocas del Toro\n",
      "Processing Record 94 | Port Elizabeth\n",
      "Processing Record 95 | Saint-Pierre\n",
      "Processing Record 96 | Birao\n",
      "Processing Record 97 | Fare\n",
      "Processing Record 98 | Nouadhibou\n",
      "Processing Record 99 | Vao\n",
      "Processing Record 100 | Leningradskiy\n",
      "Processing Record 101 | Saint-Philippe\n",
      "Processing Record 102 | George Town\n",
      "Processing Record 103 | Tuatapere\n",
      "Processing Record 104 | Zhigansk\n",
      "Processing Record 105 | Ponta do Sol\n",
      "Processing Record 106 | Saskylakh\n",
      "Processing Record 107 | Itaqui\n",
      "Processing Record 108 | Şabyā\n",
      "Processing Record 109 | Allanridge\n",
      "Processing Record 110 | Yar-Sale\n",
      "Processing Record 111 | Dikson\n",
      "Processing Record 112 | Tuktoyaktuk\n",
      "Processing Record 113 | Tūkrah\n",
      "Processing Record 114 | Erzin\n",
      "City not found. Skipping...\n",
      "City not found. Skipping...\n",
      "Processing Record 115 | Quatre Cocos\n",
      "Processing Record 116 | Hermanus\n",
      "Processing Record 117 | Katsuura\n",
      "Processing Record 118 | Ilulissat\n",
      "Processing Record 119 | Robertsport\n",
      "Processing Record 120 | Nogales\n",
      "Processing Record 121 | Nānākuli\n",
      "Processing Record 122 | Santa Cruz de la Sierra\n",
      "Processing Record 123 | Carupano\n",
      "Processing Record 124 | Ribeira Grande\n",
      "Processing Record 125 | Meadow Lake\n",
      "City not found. Skipping...\n",
      "Processing Record 126 | Sittwe\n",
      "Processing Record 127 | Mahébourg\n",
      "Processing Record 128 | Paoua\n",
      "Processing Record 129 | Lavrentiya\n",
      "Processing Record 130 | Ginda\n",
      "Processing Record 131 | Chapais\n",
      "Processing Record 132 | Muros\n",
      "Processing Record 133 | Mazatlán\n",
      "Processing Record 134 | Nelidovo\n",
      "Processing Record 135 | Kazachinskoye\n",
      "Processing Record 136 | Portlethen\n",
      "Processing Record 137 | Arrondissement de Douai\n",
      "Processing Record 138 | Mujiayingzi\n",
      "Processing Record 139 | Pimentel\n",
      "Processing Record 140 | Ucluelet\n",
      "Processing Record 141 | Udachny\n",
      "Processing Record 142 | Vostok\n",
      "Processing Record 143 | Tiarei\n",
      "Processing Record 144 | Fairview\n",
      "Processing Record 145 | Matara\n",
      "Processing Record 146 | Tuskegee\n",
      "Processing Record 147 | San Sebastián Tenango\n",
      "Processing Record 148 | Cape Town\n",
      "Processing Record 149 | Būlaevo\n",
      "Processing Record 150 | Pisco\n",
      "Processing Record 151 | Khatanga\n",
      "Processing Record 152 | Kamakwie\n",
      "Processing Record 153 | San Vicente de Cañete\n",
      "Processing Record 154 | Tateyama\n",
      "Processing Record 155 | Brigantine\n",
      "Processing Record 156 | Lubao\n",
      "Processing Record 157 | Gramsh\n",
      "Processing Record 158 | Chui\n",
      "Processing Record 159 | Neftçala\n",
      "Processing Record 160 | Nantucket\n",
      "Processing Record 161 | Bulancak\n",
      "Processing Record 162 | Lorengau\n",
      "Processing Record 163 | Constitución\n",
      "Processing Record 164 | Tiksi\n",
      "Processing Record 165 | Lagoa\n",
      "Processing Record 166 | Saint Cloud\n",
      "Processing Record 167 | Horta\n",
      "Processing Record 168 | Bethel\n",
      "Processing Record 169 | Olonets\n",
      "Processing Record 170 | Linxia Chengguanzhen\n",
      "City not found. Skipping...\n",
      "Processing Record 171 | Turukhansk\n",
      "Processing Record 172 | Rome\n",
      "Processing Record 173 | Turhal\n",
      "Processing Record 174 | Yerbogachën\n",
      "Processing Record 175 | Pangnirtung\n",
      "Processing Record 176 | Bathsheba\n",
      "City not found. Skipping...\n",
      "Processing Record 177 | Bredasdorp\n",
      "Processing Record 178 | São Geraldo do Araguaia\n",
      "Processing Record 179 | Opuwo\n",
      "Processing Record 180 | Caravelas\n",
      "Processing Record 181 | Esperance\n",
      "Processing Record 182 | Broome\n",
      "Processing Record 183 | Ihosy\n",
      "Processing Record 184 | Toamasina\n",
      "Processing Record 185 | Acaraú\n",
      "Processing Record 186 | Coyhaique\n",
      "Processing Record 187 | Bayanday\n",
      "Processing Record 188 | Mahibadhoo\n",
      "Processing Record 189 | Sitka\n",
      "Processing Record 190 | Damāvand\n",
      "Processing Record 191 | Longyearbyen\n",
      "Processing Record 192 | Taraz\n",
      "Processing Record 193 | Cidreira\n",
      "Processing Record 194 | Carballo\n",
      "Processing Record 195 | Forsytheganj\n",
      "Processing Record 196 | East London\n",
      "Processing Record 197 | Souillac\n",
      "Processing Record 198 | Morant Bay\n",
      "Processing Record 199 | San Cristobal\n",
      "Processing Record 200 | Colon\n",
      "City not found. Skipping...\n",
      "Processing Record 201 | Arlit\n",
      "Processing Record 202 | Kenai\n",
      "Processing Record 203 | Cockburn Town\n",
      "Processing Record 204 | Saint Lawrence\n",
      "Processing Record 205 | Bilibino\n",
      "Processing Record 206 | Aykhal\n",
      "Processing Record 207 | Skała\n",
      "Processing Record 208 | Verkhnyaya Toyma\n",
      "Processing Record 209 | Lebu\n",
      "City not found. Skipping...\n",
      "Processing Record 210 | Oussouye\n",
      "City not found. Skipping...\n",
      "Processing Record 211 | Port Hardy\n",
      "Processing Record 212 | Saint Paul Harbor\n",
      "Processing Record 213 | Puerto del Rosario\n",
      "Processing Record 214 | Zyryanka\n",
      "Processing Record 215 | Hasaki\n",
      "Processing Record 216 | Calama\n",
      "Processing Record 217 | Krasnosel'kup\n",
      "Processing Record 218 | Nikolayevskaya\n",
      "Processing Record 219 | Pevek\n",
      "City not found. Skipping...\n",
      "City not found. Skipping...\n",
      "Processing Record 220 | Airai\n",
      "Processing Record 221 | Thai Binh\n",
      "City not found. Skipping...\n",
      "Processing Record 222 | Nizwá\n",
      "Processing Record 223 | Bokhan\n",
      "Processing Record 224 | Umm Kaddadah\n",
      "Processing Record 225 | Ixtapa\n",
      "Processing Record 226 | Tolú Viejo\n",
      "Processing Record 227 | Shimokizukuri\n",
      "Processing Record 228 | Canberra\n",
      "Processing Record 229 | Paamiut\n",
      "Processing Record 230 | Baykit\n"
     ]
    },
    {
     "name": "stdout",
     "output_type": "stream",
     "text": [
      "Processing Record 231 | Half Moon Bay\n",
      "City not found. Skipping...\n",
      "Processing Record 232 | Alice Springs\n",
      "Processing Record 233 | Vangaindrano\n",
      "Processing Record 234 | Amahai\n",
      "Processing Record 235 | Saldanha\n",
      "Processing Record 236 | Thompson\n",
      "Processing Record 237 | Tromsø\n",
      "Processing Record 238 | Sinnamary\n",
      "Processing Record 239 | Pacifica\n",
      "Processing Record 240 | Huejuquilla el Alto\n",
      "Processing Record 241 | Tsumeb\n",
      "Processing Record 242 | Maryville\n",
      "Processing Record 243 | Labuhan\n",
      "Processing Record 244 | Nahrin\n",
      "City not found. Skipping...\n",
      "Processing Record 245 | Beringovskiy\n",
      "Processing Record 246 | Bengkulu\n",
      "Processing Record 247 | Newport\n",
      "Processing Record 248 | Northam\n",
      "Processing Record 249 | Nemuro\n",
      "City not found. Skipping...\n",
      "Processing Record 250 | Ambilobe\n",
      "Processing Record 251 | Kiryat Gat\n",
      "Processing Record 252 | Touros\n",
      "Processing Record 253 | Kunshan\n",
      "Processing Record 254 | Fortuna\n",
      "City not found. Skipping...\n",
      "Processing Record 255 | Tshane\n",
      "Processing Record 256 | Cururupu\n",
      "Processing Record 257 | Bubaque\n",
      "Processing Record 258 | Mount Isa\n",
      "Processing Record 259 | Asău\n",
      "Processing Record 260 | Mahanje\n",
      "Processing Record 261 | Shelburne\n",
      "City not found. Skipping...\n",
      "Processing Record 262 | Kumul\n",
      "Processing Record 263 | Härnösand\n",
      "Processing Record 264 | Amparafaravola\n",
      "Processing Record 265 | Praia\n",
      "Processing Record 266 | Canutama\n",
      "Processing Record 267 | Tottori-shi\n",
      "Processing Record 268 | Voyvozh\n",
      "Processing Record 269 | Safaga\n",
      "Processing Record 270 | Ubari\n",
      "Processing Record 271 | Faanui\n",
      "Processing Record 272 | Zapolyarnyy\n",
      "Processing Record 273 | Taltal\n",
      "Processing Record 274 | Khorramshahr\n",
      "City not found. Skipping...\n",
      "Processing Record 275 | Rach Gia\n",
      "Processing Record 276 | Hervey Bay\n",
      "Processing Record 277 | Buala\n",
      "Processing Record 278 | Haines Junction\n",
      "Processing Record 279 | Boa Vista\n",
      "Processing Record 280 | Awjilah\n",
      "Processing Record 281 | Tongliao\n",
      "Processing Record 282 | Zhangaözen\n",
      "Processing Record 283 | Santiago de Cao\n",
      "Processing Record 284 | Kristiansund\n",
      "Processing Record 285 | Geraldton\n",
      "Processing Record 286 | La Romana\n",
      "Processing Record 287 | Anloga\n",
      "Processing Record 288 | Macusani\n",
      "Processing Record 289 | Morondava\n",
      "Processing Record 290 | Fairbanks\n",
      "Processing Record 291 | Manakara\n",
      "Processing Record 292 | Lagos\n",
      "Processing Record 293 | Florianópolis\n",
      "Processing Record 294 | Vientiane\n",
      "Processing Record 295 | Ngunguru\n",
      "Processing Record 296 | College\n",
      "Processing Record 297 | City of San Pedro\n",
      "Processing Record 298 | Hualmay\n",
      "Processing Record 299 | Ji’an\n",
      "Processing Record 300 | Tākestān\n",
      "Processing Record 301 | Falun\n",
      "Processing Record 302 | Gwanda\n",
      "Processing Record 303 | Flinders\n",
      "Processing Record 304 | Kununurra\n",
      "Processing Record 305 | Talnakh\n",
      "Processing Record 306 | Maroslele\n",
      "Processing Record 307 | Barguzin\n",
      "Processing Record 308 | Turbat\n",
      "Processing Record 309 | Codrington\n",
      "Processing Record 310 | Kupang\n",
      "Processing Record 311 | Simga\n",
      "Processing Record 312 | Bereda\n",
      "Processing Record 313 | Alugan\n",
      "Processing Record 314 | Burgeo\n",
      "Processing Record 315 | Betzdorf\n",
      "Processing Record 316 | Mount Gambier\n",
      "City not found. Skipping...\n",
      "Processing Record 317 | Kamaishi\n",
      "Processing Record 318 | Russell\n",
      "Processing Record 319 | Tura\n",
      "Processing Record 320 | Aswān\n",
      "Processing Record 321 | Karratha\n",
      "Processing Record 322 | Mossamedes\n",
      "City not found. Skipping...\n",
      "Processing Record 323 | Kampot\n",
      "Processing Record 324 | Kaitangata\n",
      "Processing Record 325 | Sioux Lookout\n",
      "Processing Record 326 | Gayéri\n",
      "Processing Record 327 | Rosario\n",
      "Processing Record 328 | Bandarbeyla\n",
      "Processing Record 329 | Sibinal\n",
      "Processing Record 330 | Lanxi\n",
      "Processing Record 331 | Cabo San Lucas\n",
      "City not found. Skipping...\n",
      "City not found. Skipping...\n",
      "Processing Record 332 | Yangi Marg`ilon\n",
      "Processing Record 333 | Olinda\n",
      "Processing Record 334 | Aklavik\n",
      "Processing Record 335 | Hambantota\n",
      "Processing Record 336 | Doha\n",
      "Processing Record 337 | La Ronge\n",
      "Processing Record 338 | Savé\n",
      "Processing Record 339 | Sangmélima\n",
      "Processing Record 340 | Lashio\n",
      "Processing Record 341 | Kruisfontein\n",
      "Processing Record 342 | Nome\n",
      "Processing Record 343 | São Filipe\n",
      "Processing Record 344 | Grand Haven\n",
      "Processing Record 345 | Manzhouli\n",
      "City not found. Skipping...\n",
      "Processing Record 346 | Fort Nelson\n",
      "Processing Record 347 | San Andrés\n",
      "Processing Record 348 | Puerto Escondido\n",
      "Processing Record 349 | Saint George\n",
      "Processing Record 350 | Diu\n",
      "Processing Record 351 | Sinazongwe\n",
      "Processing Record 352 | Samarai\n",
      "Processing Record 353 | Palmer\n",
      "Processing Record 354 | Mezen'\n",
      "Processing Record 355 | Florence\n",
      "Processing Record 356 | Wanaka\n",
      "Processing Record 357 | Sonneberg\n",
      "Processing Record 358 | Drayton Valley\n",
      "Processing Record 359 | Wajima\n",
      "Processing Record 360 | Kavieng\n",
      "Processing Record 361 | Yining\n",
      "Processing Record 362 | Manapparai\n",
      "Processing Record 363 | Urucará\n",
      "Processing Record 364 | Praia\n",
      "Processing Record 365 | Charters Towers\n",
      "Processing Record 366 | Podgornoye\n",
      "Processing Record 367 | Līsakovsk\n",
      "City not found. Skipping...\n",
      "Processing Record 368 | Paraná\n",
      "Processing Record 369 | Hūn\n",
      "Processing Record 370 | San Mauro Torinese\n",
      "Processing Record 371 | Shangrao\n",
      "Processing Record 372 | Narsaq\n",
      "Processing Record 373 | Hokitika\n",
      "Processing Record 374 | Oranjemund\n",
      "Processing Record 375 | Chimala\n",
      "Processing Record 376 | Bria\n",
      "Processing Record 377 | Bambous Virieux\n",
      "Processing Record 378 | Longaví\n",
      "Processing Record 379 | Vanimo\n",
      "Processing Record 380 | Ust'-Kulom\n",
      "Processing Record 381 | Ati\n",
      "Processing Record 382 | Lodeynoye Pole\n",
      "Processing Record 383 | Santa Rosa\n",
      "Processing Record 384 | Mtwara\n",
      "Processing Record 385 | Kozachi Laheri\n",
      "Processing Record 386 | Moengo\n",
      "Processing Record 387 | Victor Harbor\n",
      "Processing Record 388 | Khandyga\n",
      "Processing Record 389 | Hirara\n",
      "Processing Record 390 | Saint-Ambroise\n",
      "Processing Record 391 | San Patricio\n",
      "City not found. Skipping...\n",
      "Processing Record 392 | Bajil\n",
      "Processing Record 393 | Saint-Maximin-la-Sainte-Baume\n",
      "Processing Record 394 | Conceição do Araguaia\n",
      "Processing Record 395 | Gijang\n",
      "Processing Record 396 | Hauterive\n",
      "City not found. Skipping...\n",
      "Processing Record 397 | Maputo\n",
      "Processing Record 398 | Alofi\n",
      "Processing Record 399 | Talcahuano\n",
      "Processing Record 400 | Lima\n",
      "Processing Record 401 | Antón Lizardo\n",
      "Processing Record 402 | Bijie\n",
      "Processing Record 403 | Juneau\n",
      "Processing Record 404 | Okhotsk\n",
      "Processing Record 405 | Woodmere\n",
      "Processing Record 406 | Bonthe\n",
      "Processing Record 407 | Abu Dhabi\n",
      "Processing Record 408 | Sur\n",
      "Processing Record 409 | Maxixe\n",
      "Processing Record 410 | Hamilton\n",
      "Processing Record 411 | Lompoc\n",
      "Processing Record 412 | Dwārka\n",
      "Processing Record 413 | Vrangel'\n",
      "Processing Record 414 | Champerico\n",
      "Processing Record 415 | Yulara\n",
      "Processing Record 416 | Pilar\n",
      "Processing Record 417 | Daura\n",
      "Processing Record 418 | Scarborough\n",
      "Processing Record 419 | Emerald\n",
      "Processing Record 420 | Morro Bay\n",
      "Processing Record 421 | Sebastian\n",
      "Processing Record 422 | Lüderitz\n",
      "Processing Record 423 | Skjervøy\n",
      "Processing Record 424 | San Jose\n",
      "Processing Record 425 | Eyl\n",
      "Processing Record 426 | Ancud\n",
      "Processing Record 427 | Nioro\n",
      "Processing Record 428 | Tadine\n",
      "Processing Record 429 | Saint-Leu\n",
      "City not found. Skipping...\n",
      "Processing Record 430 | Uusikaupunki\n",
      "Processing Record 431 | Shache\n",
      "Processing Record 432 | Zhanakorgan\n",
      "Processing Record 433 | Vestmannaeyjar\n",
      "Processing Record 434 | Xining\n",
      "Processing Record 435 | Mountmellick\n",
      "Processing Record 436 | Xinyu\n",
      "Processing Record 437 | Bāniyās\n",
      "Processing Record 438 | Necochea\n",
      "Processing Record 439 | Acarí\n",
      "Processing Record 440 | Yeniseysk\n",
      "Processing Record 441 | Gorontalo\n",
      "Processing Record 442 | Savannah Bight\n",
      "Processing Record 443 | Hay River\n",
      "Processing Record 444 | Xinqing\n",
      "Processing Record 445 | Dali\n",
      "Processing Record 446 | Prince George\n",
      "Processing Record 447 | Dudinka\n",
      "Processing Record 448 | Pareora\n",
      "Processing Record 449 | Santa Maria da Vitória\n",
      "Processing Record 450 | Mazamari\n",
      "Processing Record 451 | Korsakov\n",
      "Processing Record 452 | Rāzole\n",
      "Processing Record 453 | Eureka\n",
      "Processing Record 454 | Gamba\n",
      "Processing Record 455 | Cabedelo\n",
      "Processing Record 456 | Muli\n",
      "Processing Record 457 | Nhulunbuy\n",
      "Processing Record 458 | Biak\n",
      "Processing Record 459 | Nchelenge\n",
      "Processing Record 460 | Oriximiná\n",
      "Processing Record 461 | La Rioja\n",
      "Processing Record 462 | Port Blair\n",
      "Processing Record 463 | Myaundzha\n",
      "Processing Record 464 | Mehamn\n",
      "Processing Record 465 | Boden\n"
     ]
    },
    {
     "name": "stdout",
     "output_type": "stream",
     "text": [
      "Processing Record 466 | Kot Kapūra\n",
      "Processing Record 467 | Khani\n",
      "Processing Record 468 | Mt. Pleasant\n",
      "Processing Record 469 | Dukhovnitskoye\n",
      "Processing Record 470 | Paso de Carrasco\n",
      "Processing Record 471 | Hvide Sande\n",
      "Processing Record 472 | Polunochnoye\n",
      "Processing Record 473 | Beira\n",
      "Processing Record 474 | Sonqor\n",
      "Processing Record 475 | Manono\n",
      "Processing Record 476 | Punta de Bombón\n",
      "Processing Record 477 | Āstāneh-ye Ashrafīyeh\n",
      "Processing Record 478 | Australind\n",
      "Processing Record 479 | Dunda\n",
      "Processing Record 480 | Luleå\n",
      "Processing Record 481 | Faya\n",
      "Processing Record 482 | Aksarka\n",
      "Processing Record 483 | Sechura\n",
      "Processing Record 484 | Vitim\n",
      "Processing Record 485 | Heilbron\n",
      "City not found. Skipping...\n",
      "Processing Record 486 | Lakatoro\n",
      "Processing Record 487 | Beloha\n",
      "Processing Record 488 | Santiago del Estero\n",
      "Processing Record 489 | Pitimbu\n",
      "Processing Record 490 | Niamey\n",
      "Processing Record 491 | Batemans Bay\n",
      "Processing Record 492 | Sterling\n",
      "Processing Record 493 | Karasjok\n",
      "City not found. Skipping...\n",
      "Processing Record 494 | Saquena\n",
      "Processing Record 495 | Berezhany\n",
      "Processing Record 496 | Nehe\n",
      "Processing Record 497 | Port Hawkesbury\n",
      "Processing Record 498 | Naryan-Mar\n",
      "Processing Record 499 | Wanning\n",
      "Processing Record 500 | Huarmey\n",
      "Processing Record 501 | West Bay\n",
      "Processing Record 502 | Arrondissement de Provins\n",
      "Processing Record 503 | Padang\n",
      "Processing Record 504 | Shimoda\n",
      "City not found. Skipping...\n",
      "Processing Record 505 | Hong Kong\n",
      "Processing Record 506 | Verkhoyansk\n",
      "Processing Record 507 | Dryden\n",
      "Processing Record 508 | Guilin\n",
      "Processing Record 509 | Sivas Province\n",
      "Processing Record 510 | Sangar\n",
      "Processing Record 511 | Kieta\n",
      "Processing Record 512 | Flic en Flac\n",
      "Processing Record 513 | Atar\n",
      "Processing Record 514 | Lantawan\n",
      "Processing Record 515 | Yafran\n",
      "City not found. Skipping...\n",
      "Processing Record 516 | Bogandé\n",
      "City not found. Skipping...\n",
      "Processing Record 517 | Innisfail\n",
      "Processing Record 518 | Kahului\n",
      "Processing Record 519 | Lata\n",
      "Processing Record 520 | Hornepayne\n",
      "Processing Record 521 | Guerrero Negro\n",
      "Processing Record 522 | Nazca\n",
      "Processing Record 523 | Abū Zabad\n",
      "Processing Record 524 | San Quintín\n",
      "Processing Record 525 | Pochutla\n",
      "Processing Record 526 | Anadyr\n",
      "City not found. Skipping...\n",
      "Processing Record 527 | Pemba\n",
      "Processing Record 528 | Belyy Yar\n",
      "Processing Record 529 | Itarema\n",
      "Processing Record 530 | Tarko-Sale\n",
      "Processing Record 531 | Great Yarmouth\n",
      "City not found. Skipping...\n",
      "Processing Record 532 | Quang Ngai\n",
      "Processing Record 533 | Port Hedland\n",
      "Processing Record 534 | Parnarama\n",
      "Processing Record 535 | Øksfjord\n",
      "Processing Record 536 | Ziarat\n",
      "Processing Record 537 | Sonoita\n",
      "Processing Record 538 | Chipinge\n",
      "Processing Record 539 | South Yuba City\n",
      "Processing Record 540 | Wattegama\n",
      "Processing Record 541 | Impfondo\n",
      "Processing Record 542 | Yenagoa\n",
      "Processing Record 543 | Tual\n",
      "Processing Record 544 | Ducheng\n",
      "Processing Record 545 | Noumea\n",
      "Processing Record 546 | Soyo\n",
      "Processing Record 547 | Weligama\n",
      "Processing Record 548 | Ulladulla\n",
      "Processing Record 549 | Palmerston\n",
      "Processing Record 550 | Kamennogorsk\n",
      "Processing Record 551 | Estelí\n",
      "Processing Record 552 | Juquiá\n",
      "Processing Record 553 | Shīeli\n",
      "Processing Record 554 | Nicoya\n",
      "Processing Record 555 | Abhā\n",
      "City not found. Skipping...\n",
      "Processing Record 556 | Voskresenskoye\n",
      "Processing Record 557 | Dodge City\n",
      "Processing Record 558 | Sampit\n",
      "Processing Record 559 | Kathu\n",
      "Processing Record 560 | Porto Santo\n",
      "Processing Record 561 | Porto-Novo\n",
      "Processing Record 562 | Mendoza\n",
      "Processing Record 563 | Rio Pardo de Minas\n",
      "Processing Record 564 | Tombouctou\n",
      "Processing Record 565 | Bilma\n",
      "Processing Record 566 | Laguna\n",
      "Processing Record 567 | Marsh Harbour\n",
      "Processing Record 568 | Cañon City\n",
      "Processing Record 569 | Tyrma\n",
      "Processing Record 570 | Verkhnetulomskiy\n",
      "Processing Record 571 | Along\n",
      "Processing Record 572 | Tougue\n",
      "Processing Record 573 | Lodja\n",
      "City not found. Skipping...\n",
      "Processing Record 574 | Los Llanos de Aridane\n",
      "Processing Record 575 | Tautira\n",
      "Processing Record 576 | Jacareacanga\n",
      "Processing Record 577 | Davila\n",
      "Processing Record 578 | Taoudenni\n",
      "Processing Record 579 | Itoman\n",
      "Processing Record 580 | Reconquista\n",
      "-------------------------------\n",
      "Data Retrieval Complete\n",
      "-------------------------------\n"
     ]
    }
   ],
   "source": [
    "#set up lists to hold response inf \n",
    "city_name = []\n",
    "country = []\n",
    "date = []\n",
    "latitude = []\n",
    "longitude = []\n",
    "temperature_max = []\n",
    "humidity = []\n",
    "cloudiness = []\n",
    "wind_speed = []\n",
    "\n",
    "# Processing record counter starting as 1\n",
    "processing_record = 1\n",
    "\n",
    "# Print starting log statement\n",
    "print(f\"Beginning Data Retrieval\")\n",
    "print(f\"-------------------------------\")\n",
    "\n",
    "#loop through the list of cities and perform a request for data on each\n",
    "for city in cities:\n",
    "\n",
    "# Exception Handling\n",
    "    try:\n",
    "        response = requests.get(query_url + city).json()\n",
    "        city_name.append(response[\"name\"])\n",
    "        country.append(response[\"sys\"][\"country\"])\n",
    "        date.append(response[\"dt\"])\n",
    "        latitude.append(response[\"coord\"][\"lat\"])\n",
    "        longitude.append(response[\"coord\"][\"lon\"])\n",
    "        temperature_max.append(response[\"main\"][\"temp_max\"])\n",
    "        humidity.append(response[\"main\"][\"humidity\"])\n",
    "        cloudiness.append(response[\"clouds\"][\"all\"])\n",
    "        wind_speed.append(response[\"wind\"][\"speed\"])\n",
    "        city_record = response[\"name\"]\n",
    "        print(f\"Processing Record {processing_record} | {city_record}\")\n",
    "        \n",
    "        # Increase processing record counter by 1 \n",
    "        processing_record += 1\n",
    "        \n",
    "    except:\n",
    "        print(\"City not found. Skipping...\") \n",
    "    continue\n",
    "\n",
    "# Print ending log statement\n",
    "print(f\"-------------------------------\")\n",
    "print(f\"Data Retrieval Complete\")\n",
    "print(f\"-------------------------------\")\n",
    "        "
   ]
  },
  {
   "cell_type": "markdown",
   "metadata": {},
   "source": [
    "### Convert Raw Data to DataFrame\n",
    "* Export the city data into a .csv.\n",
    "* Display the DataFrame"
   ]
  },
  {
   "cell_type": "code",
   "execution_count": 119,
   "metadata": {},
   "outputs": [
    {
     "data": {
      "text/plain": [
       "City          580\n",
       "Lat           580\n",
       "Lng           580\n",
       "Max Temp      580\n",
       "Humidity      580\n",
       "Cloudiness    580\n",
       "Wind Speed    580\n",
       "Country       580\n",
       "Date          580\n",
       "dtype: int64"
      ]
     },
     "execution_count": 119,
     "metadata": {},
     "output_type": "execute_result"
    }
   ],
   "source": [
    "# Create a DataFrame from cities, latitude, longitude, temperature, humidity, cloudiness & wind speed\n",
    "weather_cities_df = {\n",
    "    \"City\": city_name,\n",
    "    \"Lat\": latitude,\n",
    "    \"Lng\": longitude,\n",
    "    \"Max Temp\": temperature_max,\n",
    "    \"Humidity\": humidity,\n",
    "    \"Cloudiness\": cloudiness,\n",
    "    \"Wind Speed\": wind_speed,\n",
    "    \"Country\": country,\n",
    "    \"Date\": date\n",
    "}\n",
    "\n",
    "weather_data = pd.DataFrame(weather_cities_df)\n",
    "weather_data.count()"
   ]
  },
  {
   "cell_type": "code",
   "execution_count": 120,
   "metadata": {},
   "outputs": [
    {
     "data": {
      "text/html": [
       "<div>\n",
       "<style scoped>\n",
       "    .dataframe tbody tr th:only-of-type {\n",
       "        vertical-align: middle;\n",
       "    }\n",
       "\n",
       "    .dataframe tbody tr th {\n",
       "        vertical-align: top;\n",
       "    }\n",
       "\n",
       "    .dataframe thead th {\n",
       "        text-align: right;\n",
       "    }\n",
       "</style>\n",
       "<table border=\"1\" class=\"dataframe\">\n",
       "  <thead>\n",
       "    <tr style=\"text-align: right;\">\n",
       "      <th></th>\n",
       "      <th>City</th>\n",
       "      <th>Lat</th>\n",
       "      <th>Lng</th>\n",
       "      <th>Max Temp</th>\n",
       "      <th>Humidity</th>\n",
       "      <th>Cloudiness</th>\n",
       "      <th>Wind Speed</th>\n",
       "      <th>Country</th>\n",
       "      <th>Date</th>\n",
       "    </tr>\n",
       "  </thead>\n",
       "  <tbody>\n",
       "    <tr>\n",
       "      <th>0</th>\n",
       "      <td>Uberlândia</td>\n",
       "      <td>-18.92</td>\n",
       "      <td>-48.28</td>\n",
       "      <td>71.60</td>\n",
       "      <td>40</td>\n",
       "      <td>12</td>\n",
       "      <td>4.70</td>\n",
       "      <td>BR</td>\n",
       "      <td>1597097375</td>\n",
       "    </tr>\n",
       "    <tr>\n",
       "      <th>1</th>\n",
       "      <td>Norman Wells</td>\n",
       "      <td>65.28</td>\n",
       "      <td>-126.83</td>\n",
       "      <td>75.20</td>\n",
       "      <td>47</td>\n",
       "      <td>40</td>\n",
       "      <td>11.41</td>\n",
       "      <td>CA</td>\n",
       "      <td>1597097375</td>\n",
       "    </tr>\n",
       "    <tr>\n",
       "      <th>2</th>\n",
       "      <td>Margate</td>\n",
       "      <td>51.38</td>\n",
       "      <td>1.39</td>\n",
       "      <td>71.01</td>\n",
       "      <td>83</td>\n",
       "      <td>55</td>\n",
       "      <td>4.38</td>\n",
       "      <td>GB</td>\n",
       "      <td>1597097375</td>\n",
       "    </tr>\n",
       "    <tr>\n",
       "      <th>3</th>\n",
       "      <td>Rikitea</td>\n",
       "      <td>-23.12</td>\n",
       "      <td>-134.97</td>\n",
       "      <td>69.93</td>\n",
       "      <td>72</td>\n",
       "      <td>62</td>\n",
       "      <td>24.94</td>\n",
       "      <td>PF</td>\n",
       "      <td>1597097375</td>\n",
       "    </tr>\n",
       "    <tr>\n",
       "      <th>4</th>\n",
       "      <td>Punta Arenas</td>\n",
       "      <td>-53.15</td>\n",
       "      <td>-70.92</td>\n",
       "      <td>32.00</td>\n",
       "      <td>88</td>\n",
       "      <td>75</td>\n",
       "      <td>17.22</td>\n",
       "      <td>CL</td>\n",
       "      <td>1597097105</td>\n",
       "    </tr>\n",
       "  </tbody>\n",
       "</table>\n",
       "</div>"
      ],
      "text/plain": [
       "           City    Lat     Lng  Max Temp  Humidity  Cloudiness  Wind Speed  \\\n",
       "0    Uberlândia -18.92  -48.28     71.60        40          12        4.70   \n",
       "1  Norman Wells  65.28 -126.83     75.20        47          40       11.41   \n",
       "2       Margate  51.38    1.39     71.01        83          55        4.38   \n",
       "3       Rikitea -23.12 -134.97     69.93        72          62       24.94   \n",
       "4  Punta Arenas -53.15  -70.92     32.00        88          75       17.22   \n",
       "\n",
       "  Country        Date  \n",
       "0      BR  1597097375  \n",
       "1      CA  1597097375  \n",
       "2      GB  1597097375  \n",
       "3      PF  1597097375  \n",
       "4      CL  1597097105  "
      ]
     },
     "execution_count": 120,
     "metadata": {},
     "output_type": "execute_result"
    }
   ],
   "source": [
    "weather_data = pd.DataFrame(weather_cities_df)\n",
    "weather_data.head()"
   ]
  },
  {
   "cell_type": "markdown",
   "metadata": {},
   "source": [
    "## Inspect the data and remove the cities where the humidity > 100%.\n",
    "----\n",
    "Skip this step if there are no cities that have humidity > 100%. "
   ]
  },
  {
   "cell_type": "code",
   "execution_count": null,
   "metadata": {},
   "outputs": [],
   "source": []
  },
  {
   "cell_type": "code",
   "execution_count": 153,
   "metadata": {},
   "outputs": [
    {
     "ename": "ValueError",
     "evalue": "If using all scalar values, you must pass an index",
     "output_type": "error",
     "traceback": [
      "\u001b[0;31m---------------------------------------------------------------------------\u001b[0m",
      "\u001b[0;31mValueError\u001b[0m                                Traceback (most recent call last)",
      "\u001b[0;32m<ipython-input-153-b8c13c0f9861>\u001b[0m in \u001b[0;36m<module>\u001b[0;34m\u001b[0m\n\u001b[1;32m     17\u001b[0m \u001b[0;31m#weather_type\u001b[0m\u001b[0;34m\u001b[0m\u001b[0;34m\u001b[0m\u001b[0;34m\u001b[0m\u001b[0m\n\u001b[1;32m     18\u001b[0m \u001b[0;31m#summary statistics table of mean, standard deviation, min and max for each city.\u001b[0m\u001b[0;34m\u001b[0m\u001b[0;34m\u001b[0m\u001b[0;34m\u001b[0m\u001b[0m\n\u001b[0;32m---> 19\u001b[0;31m summary_stats_table = pd.DataFrame({\"count\": weather_data_count,\n\u001b[0m\u001b[1;32m     20\u001b[0m                                     \u001b[0;34m\"mean\"\u001b[0m\u001b[0;34m:\u001b[0m \u001b[0mweather_data_mean\u001b[0m\u001b[0;34m,\u001b[0m\u001b[0;34m\u001b[0m\u001b[0;34m\u001b[0m\u001b[0m\n\u001b[1;32m     21\u001b[0m                                     \u001b[0;34m\"std\"\u001b[0m\u001b[0;34m:\u001b[0m \u001b[0mweather_data_std\u001b[0m\u001b[0;34m,\u001b[0m\u001b[0;34m\u001b[0m\u001b[0;34m\u001b[0m\u001b[0m\n",
      "\u001b[0;32m~/opt/anaconda3/lib/python3.8/site-packages/pandas/core/frame.py\u001b[0m in \u001b[0;36m__init__\u001b[0;34m(self, data, index, columns, dtype, copy)\u001b[0m\n\u001b[1;32m    433\u001b[0m             )\n\u001b[1;32m    434\u001b[0m         \u001b[0;32melif\u001b[0m \u001b[0misinstance\u001b[0m\u001b[0;34m(\u001b[0m\u001b[0mdata\u001b[0m\u001b[0;34m,\u001b[0m \u001b[0mdict\u001b[0m\u001b[0;34m)\u001b[0m\u001b[0;34m:\u001b[0m\u001b[0;34m\u001b[0m\u001b[0;34m\u001b[0m\u001b[0m\n\u001b[0;32m--> 435\u001b[0;31m             \u001b[0mmgr\u001b[0m \u001b[0;34m=\u001b[0m \u001b[0minit_dict\u001b[0m\u001b[0;34m(\u001b[0m\u001b[0mdata\u001b[0m\u001b[0;34m,\u001b[0m \u001b[0mindex\u001b[0m\u001b[0;34m,\u001b[0m \u001b[0mcolumns\u001b[0m\u001b[0;34m,\u001b[0m \u001b[0mdtype\u001b[0m\u001b[0;34m=\u001b[0m\u001b[0mdtype\u001b[0m\u001b[0;34m)\u001b[0m\u001b[0;34m\u001b[0m\u001b[0;34m\u001b[0m\u001b[0m\n\u001b[0m\u001b[1;32m    436\u001b[0m         \u001b[0;32melif\u001b[0m \u001b[0misinstance\u001b[0m\u001b[0;34m(\u001b[0m\u001b[0mdata\u001b[0m\u001b[0;34m,\u001b[0m \u001b[0mma\u001b[0m\u001b[0;34m.\u001b[0m\u001b[0mMaskedArray\u001b[0m\u001b[0;34m)\u001b[0m\u001b[0;34m:\u001b[0m\u001b[0;34m\u001b[0m\u001b[0;34m\u001b[0m\u001b[0m\n\u001b[1;32m    437\u001b[0m             \u001b[0;32mimport\u001b[0m \u001b[0mnumpy\u001b[0m\u001b[0;34m.\u001b[0m\u001b[0mma\u001b[0m\u001b[0;34m.\u001b[0m\u001b[0mmrecords\u001b[0m \u001b[0;32mas\u001b[0m \u001b[0mmrecords\u001b[0m\u001b[0;34m\u001b[0m\u001b[0;34m\u001b[0m\u001b[0m\n",
      "\u001b[0;32m~/opt/anaconda3/lib/python3.8/site-packages/pandas/core/internals/construction.py\u001b[0m in \u001b[0;36minit_dict\u001b[0;34m(data, index, columns, dtype)\u001b[0m\n\u001b[1;32m    252\u001b[0m             \u001b[0marr\u001b[0m \u001b[0;32mif\u001b[0m \u001b[0;32mnot\u001b[0m \u001b[0mis_datetime64tz_dtype\u001b[0m\u001b[0;34m(\u001b[0m\u001b[0marr\u001b[0m\u001b[0;34m)\u001b[0m \u001b[0;32melse\u001b[0m \u001b[0marr\u001b[0m\u001b[0;34m.\u001b[0m\u001b[0mcopy\u001b[0m\u001b[0;34m(\u001b[0m\u001b[0;34m)\u001b[0m \u001b[0;32mfor\u001b[0m \u001b[0marr\u001b[0m \u001b[0;32min\u001b[0m \u001b[0marrays\u001b[0m\u001b[0;34m\u001b[0m\u001b[0;34m\u001b[0m\u001b[0m\n\u001b[1;32m    253\u001b[0m         ]\n\u001b[0;32m--> 254\u001b[0;31m     \u001b[0;32mreturn\u001b[0m \u001b[0marrays_to_mgr\u001b[0m\u001b[0;34m(\u001b[0m\u001b[0marrays\u001b[0m\u001b[0;34m,\u001b[0m \u001b[0mdata_names\u001b[0m\u001b[0;34m,\u001b[0m \u001b[0mindex\u001b[0m\u001b[0;34m,\u001b[0m \u001b[0mcolumns\u001b[0m\u001b[0;34m,\u001b[0m \u001b[0mdtype\u001b[0m\u001b[0;34m=\u001b[0m\u001b[0mdtype\u001b[0m\u001b[0;34m)\u001b[0m\u001b[0;34m\u001b[0m\u001b[0;34m\u001b[0m\u001b[0m\n\u001b[0m\u001b[1;32m    255\u001b[0m \u001b[0;34m\u001b[0m\u001b[0m\n\u001b[1;32m    256\u001b[0m \u001b[0;34m\u001b[0m\u001b[0m\n",
      "\u001b[0;32m~/opt/anaconda3/lib/python3.8/site-packages/pandas/core/internals/construction.py\u001b[0m in \u001b[0;36marrays_to_mgr\u001b[0;34m(arrays, arr_names, index, columns, dtype)\u001b[0m\n\u001b[1;32m     62\u001b[0m     \u001b[0;31m# figure out the index, if necessary\u001b[0m\u001b[0;34m\u001b[0m\u001b[0;34m\u001b[0m\u001b[0;34m\u001b[0m\u001b[0m\n\u001b[1;32m     63\u001b[0m     \u001b[0;32mif\u001b[0m \u001b[0mindex\u001b[0m \u001b[0;32mis\u001b[0m \u001b[0;32mNone\u001b[0m\u001b[0;34m:\u001b[0m\u001b[0;34m\u001b[0m\u001b[0;34m\u001b[0m\u001b[0m\n\u001b[0;32m---> 64\u001b[0;31m         \u001b[0mindex\u001b[0m \u001b[0;34m=\u001b[0m \u001b[0mextract_index\u001b[0m\u001b[0;34m(\u001b[0m\u001b[0marrays\u001b[0m\u001b[0;34m)\u001b[0m\u001b[0;34m\u001b[0m\u001b[0;34m\u001b[0m\u001b[0m\n\u001b[0m\u001b[1;32m     65\u001b[0m     \u001b[0;32melse\u001b[0m\u001b[0;34m:\u001b[0m\u001b[0;34m\u001b[0m\u001b[0;34m\u001b[0m\u001b[0m\n\u001b[1;32m     66\u001b[0m         \u001b[0mindex\u001b[0m \u001b[0;34m=\u001b[0m \u001b[0mensure_index\u001b[0m\u001b[0;34m(\u001b[0m\u001b[0mindex\u001b[0m\u001b[0;34m)\u001b[0m\u001b[0;34m\u001b[0m\u001b[0;34m\u001b[0m\u001b[0m\n",
      "\u001b[0;32m~/opt/anaconda3/lib/python3.8/site-packages/pandas/core/internals/construction.py\u001b[0m in \u001b[0;36mextract_index\u001b[0;34m(data)\u001b[0m\n\u001b[1;32m    353\u001b[0m \u001b[0;34m\u001b[0m\u001b[0m\n\u001b[1;32m    354\u001b[0m         \u001b[0;32mif\u001b[0m \u001b[0;32mnot\u001b[0m \u001b[0mindexes\u001b[0m \u001b[0;32mand\u001b[0m \u001b[0;32mnot\u001b[0m \u001b[0mraw_lengths\u001b[0m\u001b[0;34m:\u001b[0m\u001b[0;34m\u001b[0m\u001b[0;34m\u001b[0m\u001b[0m\n\u001b[0;32m--> 355\u001b[0;31m             \u001b[0;32mraise\u001b[0m \u001b[0mValueError\u001b[0m\u001b[0;34m(\u001b[0m\u001b[0;34m\"If using all scalar values, you must pass an index\"\u001b[0m\u001b[0;34m)\u001b[0m\u001b[0;34m\u001b[0m\u001b[0;34m\u001b[0m\u001b[0m\n\u001b[0m\u001b[1;32m    356\u001b[0m \u001b[0;34m\u001b[0m\u001b[0m\n\u001b[1;32m    357\u001b[0m         \u001b[0;32mif\u001b[0m \u001b[0mhave_series\u001b[0m\u001b[0;34m:\u001b[0m\u001b[0;34m\u001b[0m\u001b[0;34m\u001b[0m\u001b[0m\n",
      "\u001b[0;31mValueError\u001b[0m: If using all scalar values, you must pass an index"
     ]
    }
   ],
   "source": [
    "weather_data_count = pd.DataFrame(weather_cities_df)\n",
    "weather_data.count()\n",
    "\n",
    "weather_data_mean = pd.DataFrame(weather_cities_df)\n",
    "weather_data_mean.mean()\n",
    "\n",
    "weather_data_std = pd.DataFrame(weather_cities_df)\n",
    "weather_data_std.std()\n",
    "\n",
    "weather_data_min = pd.DataFrame(weather_cities_df)\n",
    "weather_data_min.min()\n",
    "\n",
    "weather_data_max = pd.DataFrame(weather_cities_df)\n",
    "weather_data_max.max()\n",
    "\n",
    "#weather_type = weather_cities_df.set_index([\"stats])[\"lat\"]\n",
    "#weather_type\n",
    "#summary statistics table of mean, standard deviation, min and max for each city.\n",
    "summary_stats_table = pd.DataFrame({\"count\": weather_data_count,\n",
    "                                    \"mean\": weather_data_mean, \n",
    "                                    \"std\": weather_data_std, \n",
    "                                    \"min\": weather_data_min, \n",
    "                                    \"max\": weather_data_max})\n",
    "summary_stats_table"
   ]
  },
  {
   "cell_type": "code",
   "execution_count": null,
   "metadata": {},
   "outputs": [],
   "source": [
    "#summary statistics table of mean, standard deviation, min and max for each city.\n",
    "summary_stats_table = pd.DataFrame({\"count\": weather_data_count,\n",
    "                                    \"mean\": weather_data_mean, \n",
    "                                    \"std\": weather_data_std, \n",
    "                                    \"min\": weather_data_min, \n",
    "                                    \"max\": weather_data_max}, index=[0])\n",
    "summary_stats_table"
   ]
  },
  {
   "cell_type": "code",
   "execution_count": null,
   "metadata": {},
   "outputs": [],
   "source": []
  },
  {
   "cell_type": "code",
   "execution_count": 7,
   "metadata": {},
   "outputs": [
    {
     "data": {
      "text/plain": [
       "Int64Index([], dtype='int64')"
      ]
     },
     "execution_count": 7,
     "metadata": {},
     "output_type": "execute_result"
    }
   ],
   "source": [
    "#  Get the indices of cities that have humidity over 100%.\n"
   ]
  },
  {
   "cell_type": "code",
   "execution_count": 8,
   "metadata": {},
   "outputs": [
    {
     "data": {
      "text/html": [
       "<div>\n",
       "<style scoped>\n",
       "    .dataframe tbody tr th:only-of-type {\n",
       "        vertical-align: middle;\n",
       "    }\n",
       "\n",
       "    .dataframe tbody tr th {\n",
       "        vertical-align: top;\n",
       "    }\n",
       "\n",
       "    .dataframe thead th {\n",
       "        text-align: right;\n",
       "    }\n",
       "</style>\n",
       "<table border=\"1\" class=\"dataframe\">\n",
       "  <thead>\n",
       "    <tr style=\"text-align: right;\">\n",
       "      <th></th>\n",
       "      <th>City</th>\n",
       "      <th>Lat</th>\n",
       "      <th>Lng</th>\n",
       "      <th>Max Temp</th>\n",
       "      <th>Humidity</th>\n",
       "      <th>Cloudiness</th>\n",
       "      <th>Wind Speed</th>\n",
       "      <th>Country</th>\n",
       "      <th>Date</th>\n",
       "    </tr>\n",
       "  </thead>\n",
       "  <tbody>\n",
       "    <tr>\n",
       "      <th>0</th>\n",
       "      <td>pimentel</td>\n",
       "      <td>-6.84</td>\n",
       "      <td>-79.93</td>\n",
       "      <td>66.20</td>\n",
       "      <td>29</td>\n",
       "      <td>75</td>\n",
       "      <td>5.82</td>\n",
       "      <td>PE</td>\n",
       "      <td>1585764415</td>\n",
       "    </tr>\n",
       "    <tr>\n",
       "      <th>1</th>\n",
       "      <td>victoria</td>\n",
       "      <td>22.29</td>\n",
       "      <td>114.16</td>\n",
       "      <td>69.01</td>\n",
       "      <td>88</td>\n",
       "      <td>40</td>\n",
       "      <td>18.34</td>\n",
       "      <td>HK</td>\n",
       "      <td>1585764288</td>\n",
       "    </tr>\n",
       "    <tr>\n",
       "      <th>2</th>\n",
       "      <td>padang</td>\n",
       "      <td>-0.95</td>\n",
       "      <td>100.35</td>\n",
       "      <td>79.90</td>\n",
       "      <td>75</td>\n",
       "      <td>99</td>\n",
       "      <td>1.63</td>\n",
       "      <td>ID</td>\n",
       "      <td>1585764115</td>\n",
       "    </tr>\n",
       "    <tr>\n",
       "      <th>3</th>\n",
       "      <td>hasaki</td>\n",
       "      <td>35.73</td>\n",
       "      <td>140.83</td>\n",
       "      <td>55.00</td>\n",
       "      <td>100</td>\n",
       "      <td>75</td>\n",
       "      <td>4.70</td>\n",
       "      <td>JP</td>\n",
       "      <td>1585764415</td>\n",
       "    </tr>\n",
       "    <tr>\n",
       "      <th>4</th>\n",
       "      <td>kahului</td>\n",
       "      <td>20.89</td>\n",
       "      <td>-156.47</td>\n",
       "      <td>70.00</td>\n",
       "      <td>88</td>\n",
       "      <td>1</td>\n",
       "      <td>7.63</td>\n",
       "      <td>US</td>\n",
       "      <td>1585764415</td>\n",
       "    </tr>\n",
       "  </tbody>\n",
       "</table>\n",
       "</div>"
      ],
      "text/plain": [
       "       City    Lat     Lng  Max Temp  Humidity  Cloudiness  Wind Speed  \\\n",
       "0  pimentel  -6.84  -79.93     66.20        29          75        5.82   \n",
       "1  victoria  22.29  114.16     69.01        88          40       18.34   \n",
       "2    padang  -0.95  100.35     79.90        75          99        1.63   \n",
       "3    hasaki  35.73  140.83     55.00       100          75        4.70   \n",
       "4   kahului  20.89 -156.47     70.00        88           1        7.63   \n",
       "\n",
       "  Country        Date  \n",
       "0      PE  1585764415  \n",
       "1      HK  1585764288  \n",
       "2      ID  1585764115  \n",
       "3      JP  1585764415  \n",
       "4      US  1585764415  "
      ]
     },
     "execution_count": 8,
     "metadata": {},
     "output_type": "execute_result"
    }
   ],
   "source": [
    "# Make a new DataFrame equal to the city data to drop all humidity outliers by index.\n",
    "# Passing \"inplace=False\" will make a copy of the city_data DataFrame, which we call \"clean_city_data\".\n"
   ]
  },
  {
   "cell_type": "code",
   "execution_count": 9,
   "metadata": {},
   "outputs": [],
   "source": [
    "# Extract relevant fields from the data frame\n",
    "\n",
    "\n",
    "# Export the City_Data into a csv\n"
   ]
  },
  {
   "cell_type": "markdown",
   "metadata": {},
   "source": [
    "## Plotting the Data\n",
    "* Use proper labeling of the plots using plot titles (including date of analysis) and axes labels.\n",
    "* Save the plotted figures as .pngs."
   ]
  },
  {
   "cell_type": "markdown",
   "metadata": {},
   "source": [
    "## Latitude vs. Temperature Plot"
   ]
  },
  {
   "cell_type": "code",
   "execution_count": 158,
   "metadata": {
    "scrolled": true
   },
   "outputs": [
    {
     "data": {
      "image/png": "[encoded data removed]",
      "text/plain": [
       "<Figure size 432x288 with 1 Axes>"
      ]
     },
     "metadata": {
      "needs_background": "light"
     },
     "output_type": "display_data"
    }
   ],
   "source": [
    "# Build Scatter Plot for Each Data Type\n",
    "plt.scatter(weather_data[\"Lat\"], weather_data[\"Max Temp\"], facecolors=\"blue\", marker=\"o\", edgecolor=\"black\")\n",
    "\n",
    "# Incorporate Other Graph Properties\n",
    "plt.title(\"City Latitude vs. Max Temp (02/01/2019)\")\n",
    "plt.ylabel(\"Max Temp (°F)\")\n",
    "plt.xlabel(\"Lat\")\n",
    "plt.grid(True)\n",
    "\n",
    "# Save Figure\n",
    "plt.savefig(\"../output_data/City_Latitude_vs_Max_Temperature.png\")\n",
    "\n",
    "# Show Plot\n",
    "plt.show()"
   ]
  },
  {
   "cell_type": "markdown",
   "metadata": {},
   "source": [
    "## Latitude vs. Humidity Plot"
   ]
  },
  {
   "cell_type": "code",
   "execution_count": 160,
   "metadata": {},
   "outputs": [
    {
     "data": {
      "image/png": "[encoded data removed]",
      "text/plain": [
       "<Figure size 432x288 with 1 Axes>"
      ]
     },
     "metadata": {
      "needs_background": "light"
     },
     "output_type": "display_data"
    }
   ],
   "source": [
    "# Build Scatter Plot for Each Data Type\n",
    "plt.scatter(weather_data[\"Lat\"], weather_data[\"Humidity\"], facecolors=\"blue\", marker=\"o\", edgecolor=\"black\")\n",
    "# Incorporate Other Graph Properties\n",
    "plt.title(\"City Latitude vs. Humidity (02/01/2019)\")\n",
    "plt.ylabel(\"Humidity (%)\")\n",
    "plt.xlabel(\"Lat\")\n",
    "plt.grid(True)\n",
    "\n",
    "# Save Figure\n",
    "plt.savefig(\"../output_data/City_Latitude_vs_Humidity.png\")\n",
    "\n",
    "# Show Plot\n",
    "plt.show()"
   ]
  },
  {
   "cell_type": "markdown",
   "metadata": {},
   "source": [
    "## Latitude vs. Cloudiness Plot"
   ]
  },
  {
   "cell_type": "code",
   "execution_count": 161,
   "metadata": {},
   "outputs": [
    {
     "data": {
      "image/png": "[encoded data removed]",
      "text/plain": [
       "<Figure size 432x288 with 1 Axes>"
      ]
     },
     "metadata": {
      "needs_background": "light"
     },
     "output_type": "display_data"
    }
   ],
   "source": [
    "# Build Scatter Plot for Each Data Type\n",
    "plt.scatter(weather_data[\"Lat\"], weather_data[\"Cloudiness\"], facecolors=\"blue\", marker=\"o\", edgecolor=\"black\")\n",
    "\n",
    "# Incorporate Other Graph Properties\n",
    "plt.title(\"City Latitude vs. Cloudiness (02/01/2019)\")\n",
    "plt.ylabel(\"Cloudiness (%)\")\n",
    "plt.xlabel(\"Lat\")\n",
    "plt.grid(True)\n",
    "\n",
    "# Save Figure\n",
    "plt.savefig(\"../output_data/City_Latitude_vs_Cloudiness.png\")\n",
    "\n",
    "# Show Plot\n",
    "plt.show()"
   ]
  },
  {
   "cell_type": "markdown",
   "metadata": {},
   "source": [
    "## Latitude vs. Wind Speed Plot"
   ]
  },
  {
   "cell_type": "code",
   "execution_count": 162,
   "metadata": {},
   "outputs": [
    {
     "data": {
      "image/png": "[encoded data removed]",
      "text/plain": [
       "<Figure size 432x288 with 1 Axes>"
      ]
     },
     "metadata": {
      "needs_background": "light"
     },
     "output_type": "display_data"
    }
   ],
   "source": [
    "# Build Scatter Plot for Each Data Type\n",
    "plt.scatter(weather_data[\"Lat\"], weather_data[\"Wind Speed\"], facecolors=\"blue\", marker=\"o\", edgecolor=\"black\")\n",
    "\n",
    "# Incorporate Other Graph Properties\n",
    "plt.title(\"City Latitude vs. Wind Speed (02/01/2019)\")\n",
    "plt.ylabel(\"Wind Speed (mph)\")\n",
    "plt.xlabel(\"Lat\")\n",
    "plt.grid(True)\n",
    "\n",
    "# Save Figure\n",
    "plt.savefig(\"../output_data/City_Latitude_vs_Wind_Speed.png\")\n",
    "\n",
    "# Show Plot\n",
    "plt.show()"
   ]
  },
  {
   "cell_type": "markdown",
   "metadata": {},
   "source": [
    "## Linear Regression"
   ]
  },
  {
   "cell_type": "code",
   "execution_count": 14,
   "metadata": {},
   "outputs": [],
   "source": [
    "# OPTIONAL: Create a function to create Linear Regression plots"
   ]
  },
  {
   "cell_type": "code",
   "execution_count": 172,
   "metadata": {},
   "outputs": [],
   "source": [
    "# Create Northern and Southern Hemisphere DataFrames"
   ]
  },
  {
   "cell_type": "code",
   "execution_count": 179,
   "metadata": {},
   "outputs": [],
   "source": [
    "# Define plotting function\n",
    "\n",
    "def plotLinearRegression(xdata,ydata,xlbl,ylbl,lblpos,ifig):\n",
    "    (slope, intercept, rvalue, pvalue, stderr) = linregress(xdata, ydata)\n",
    "    print(f\"The r-squared is: {rvalue}\")\n",
    "    regress_values = xdata * slope + intercept\n",
    "    line_eq = \"y = \" + str(round(slope,2)) + \"x + \" + str(round(intercept,2))\n",
    "\n",
    "    plt.scatter(xdata,ydata)\n",
    "    plt.plot(xdata,regress_values,\"r-\")\n",
    "    plt.annotate(line_eq,lblpos,fontsize=15,color=\"red\")\n",
    "    plt.xlabel(xlbl)\n",
    "    plt.ylabel(ylbl)\n",
    "    #plt.savefig(f\"../output_data/fig{ifig}.png\")\n",
    "    plt.show()"
   ]
  },
  {
   "cell_type": "markdown",
   "metadata": {},
   "source": [
    "####  Northern Hemisphere - Max Temp vs. Latitude Linear Regression"
   ]
  },
  {
   "cell_type": "code",
   "execution_count": 184,
   "metadata": {},
   "outputs": [
    {
     "name": "stdout",
     "output_type": "stream",
     "text": [
      "The r-squared is: -0.7295393350530424\n"
     ]
    },
    {
     "data": {
      "image/png": "[encoded data removed]",
      "text/plain": [
       "<Figure size 432x288 with 1 Axes>"
      ]
     },
     "metadata": {
      "needs_background": "light"
     },
     "output_type": "display_data"
    }
   ],
   "source": [
    "# Northern Hemisphere - Max Temp vs. Latitude Linear Regression\n",
    "\n",
    "xlbl = \"Lat\"\n",
    "ylbl = \"Max Temp\"\n",
    "lblpos = (0,25)\n",
    "plotLinearRegression(nothern[xlbl],nothern[ylbl],xlbl,ylbl,lblpos,5)"
   ]
  },
  {
   "cell_type": "markdown",
   "metadata": {},
   "source": [
    "####  Southern Hemisphere - Max Temp vs. Latitude Linear Regression"
   ]
  },
  {
   "cell_type": "code",
   "execution_count": 185,
   "metadata": {},
   "outputs": [
    {
     "name": "stdout",
     "output_type": "stream",
     "text": [
      "The r-squared is: 0.7730736692388795\n"
     ]
    },
    {
     "data": {
      "image/png": "[encoded data removed]",
      "text/plain": [
       "<Figure size 432x288 with 1 Axes>"
      ]
     },
     "metadata": {
      "needs_background": "light"
     },
     "output_type": "display_data"
    }
   ],
   "source": [
    "# Southern Hemisphere - Max Temp vs. Latitude Linear Regression\n",
    "\n",
    "xlbl = \"Lat\"\n",
    "ylbl = \"Max Temp\"\n",
    "lblpos = (-55,90)\n",
    "plotLinearRegression(southern[xlbl],southern[ylbl],xlbl,ylbl,lblpos,6)"
   ]
  },
  {
   "cell_type": "markdown",
   "metadata": {},
   "source": [
    "####  Northern Hemisphere - Humidity (%) vs. Latitude Linear Regression"
   ]
  },
  {
   "cell_type": "code",
   "execution_count": 186,
   "metadata": {},
   "outputs": [
    {
     "name": "stdout",
     "output_type": "stream",
     "text": [
      "The r-squared is: -0.01519908652918142\n"
     ]
    },
    {
     "data": {
      "image/png": "[encoded data removed]",
      "text/plain": [
       "<Figure size 432x288 with 1 Axes>"
      ]
     },
     "metadata": {
      "needs_background": "light"
     },
     "output_type": "display_data"
    }
   ],
   "source": [
    "# Northern Hemisphere - Humidity (%) vs. Latitude Linear Regression\n",
    "xlbl = \"Lat\"\n",
    "ylbl = \"Humidity\"\n",
    "lblpos = (45,10)\n",
    "plotLinearRegression(nothern[xlbl],nothern[ylbl],xlbl,ylbl,lblpos,7)"
   ]
  },
  {
   "cell_type": "markdown",
   "metadata": {},
   "source": [
    "####  Southern Hemisphere - Humidity (%) vs. Latitude Linear Regression"
   ]
  },
  {
   "cell_type": "code",
   "execution_count": 187,
   "metadata": {},
   "outputs": [
    {
     "name": "stdout",
     "output_type": "stream",
     "text": [
      "The r-squared is: -0.03784856919810743\n"
     ]
    },
    {
     "data": {
      "image/png": "[encoded data removed]",
      "text/plain": [
       "<Figure size 432x288 with 1 Axes>"
      ]
     },
     "metadata": {
      "needs_background": "light"
     },
     "output_type": "display_data"
    }
   ],
   "source": [
    "xlbl = \"Lat\"\n",
    "ylbl = \"Humidity\"\n",
    "lblpos = (-55,15)\n",
    "plotLinearRegression(southern[xlbl],southern[ylbl],xlbl,ylbl,lblpos,8)"
   ]
  },
  {
   "cell_type": "markdown",
   "metadata": {},
   "source": [
    "####  Northern Hemisphere - Cloudiness (%) vs. Latitude Linear Regression"
   ]
  },
  {
   "cell_type": "code",
   "execution_count": 188,
   "metadata": {},
   "outputs": [
    {
     "name": "stdout",
     "output_type": "stream",
     "text": [
      "The r-squared is: -0.1147863120294293\n"
     ]
    },
    {
     "data": {
      "image/png": "[encoded data removed]",
      "text/plain": [
       "<Figure size 432x288 with 1 Axes>"
      ]
     },
     "metadata": {
      "needs_background": "light"
     },
     "output_type": "display_data"
    }
   ],
   "source": [
    "lbl = \"Lat\"\n",
    "ylbl = \"Cloudiness\"\n",
    "lblpos = (20,40)\n",
    "plotLinearRegression(nothern[xlbl],nothern[ylbl],xlbl,ylbl,lblpos,9)\n"
   ]
  },
  {
   "cell_type": "markdown",
   "metadata": {},
   "source": [
    "####  Southern Hemisphere - Cloudiness (%) vs. Latitude Linear Regression"
   ]
  },
  {
   "cell_type": "code",
   "execution_count": 189,
   "metadata": {},
   "outputs": [
    {
     "name": "stdout",
     "output_type": "stream",
     "text": [
      "The r-squared is: -0.025556813145606806\n"
     ]
    },
    {
     "data": {
      "image/png": "[encoded data removed]",
      "text/plain": [
       "<Figure size 432x288 with 1 Axes>"
      ]
     },
     "metadata": {
      "needs_background": "light"
     },
     "output_type": "display_data"
    }
   ],
   "source": [
    "# Sourhern Hemisphere - Cloudiness (%) vs. Latitude Linear Regression\n",
    "xlbl = \"Lat\"\n",
    "ylbl = \"Cloudiness\"\n",
    "lblpos = (-55,50)\n",
    "plotLinearRegression(southern[xlbl],southern[ylbl],xlbl,ylbl,lblpos,10)"
   ]
  },
  {
   "cell_type": "markdown",
   "metadata": {},
   "source": [
    "####  Northern Hemisphere - Wind Speed (mph) vs. Latitude Linear Regression"
   ]
  },
  {
   "cell_type": "code",
   "execution_count": 190,
   "metadata": {},
   "outputs": [
    {
     "name": "stdout",
     "output_type": "stream",
     "text": [
      "The r-squared is: -0.13100400012965216\n"
     ]
    },
    {
     "data": {
      "image/png": "[encoded data removed]",
      "text/plain": [
       "<Figure size 432x288 with 1 Axes>"
      ]
     },
     "metadata": {
      "needs_background": "light"
     },
     "output_type": "display_data"
    }
   ],
   "source": [
    "xlbl = \"Lat\"\n",
    "ylbl = \"Wind Speed\"\n",
    "lblpos = (0,30)\n",
    "plotLinearRegression(nothern[xlbl],nothern[ylbl],xlbl,ylbl,lblpos,11)"
   ]
  },
  {
   "cell_type": "markdown",
   "metadata": {},
   "source": [
    "####  Southern Hemisphere - Wind Speed (mph) vs. Latitude Linear Regression"
   ]
  },
  {
   "cell_type": "code",
   "execution_count": 191,
   "metadata": {},
   "outputs": [
    {
     "name": "stdout",
     "output_type": "stream",
     "text": [
      "The r-squared is: -0.17820534568220325\n"
     ]
    },
    {
     "data": {
      "image/png": "[encoded data removed]",
      "text/plain": [
       "<Figure size 432x288 with 1 Axes>"
      ]
     },
     "metadata": {
      "needs_background": "light"
     },
     "output_type": "display_data"
    }
   ],
   "source": [
    "xlbl = \"Lat\"\n",
    "ylbl = \"Wind Speed\"\n",
    "lblpos = (-25,33)\n",
    "plotLinearRegression(southern[xlbl],southern[ylbl],xlbl,ylbl,lblpos,12)"
   ]
  },
  {
   "cell_type": "code",
   "execution_count": null,
   "metadata": {},
   "outputs": [],
   "source": []
  }
 ],
 "metadata": {
  "anaconda-cloud": {},
  "kernel_info": {
   "name": "python3"
  },
  "kernelspec": {
   "display_name": "Python 3",
   "language": "python",
   "name": "python3"
  },
  "language_info": {
   "codemirror_mode": {
    "name": "ipython",
    "version": 3
   },
   "file_extension": ".py",
   "mimetype": "text/x-python",
   "name": "python",
   "nbconvert_exporter": "python",
   "pygments_lexer": "ipython3",
   "version": "3.8.3"
  },
  "latex_envs": {
   "LaTeX_envs_menu_present": true,
   "autoclose": false,
   "autocomplete": true,
   "bibliofile": "biblio.bib",
   "cite_by": "apalike",
   "current_citInitial": 1,
   "eqLabelWithNumbers": true,
   "eqNumInitial": 1,
   "hotkeys": {
    "equation": "Ctrl-E",
    "itemize": "Ctrl-I"
   },
   "labels_anchors": false,
   "latex_user_defs": false,
   "report_style_numbering": false,
   "user_envs_cfg": false
  },
  "nteract": {
   "version": "0.12.3"
  }
 },
 "nbformat": 4,
 "nbformat_minor": 2
}
